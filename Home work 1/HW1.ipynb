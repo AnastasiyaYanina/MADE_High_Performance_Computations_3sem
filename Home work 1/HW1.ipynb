{
  "nbformat": 4,
  "nbformat_minor": 0,
  "metadata": {
    "colab": {
      "provenance": []
    },
    "kernelspec": {
      "name": "python3",
      "display_name": "Python 3"
    },
    "language_info": {
      "name": "python"
    }
  },
  "cells": [
    {
      "cell_type": "markdown",
      "source": [
        "# Домашнее задание №1: ДЗ-1"
      ],
      "metadata": {
        "id": "40YiP7jbZGSh"
      }
    },
    {
      "cell_type": "code",
      "source": [
        "import pandas as pd\n",
        "import matplotlib.pyplot as plt\n",
        "from sklearn.linear_model import LinearRegression\n",
        "import numpy as np"
      ],
      "metadata": {
        "id": "Kf9hp6Lua8rQ"
      },
      "execution_count": null,
      "outputs": []
    },
    {
      "cell_type": "code",
      "execution_count": null,
      "metadata": {
        "colab": {
          "base_uri": "https://localhost:8080/"
        },
        "id": "LAH3Vp4YZE8q",
        "outputId": "65283bb9-76eb-4cd0-f3b7-dd96bd981beb"
      },
      "outputs": [
        {
          "output_type": "stream",
          "name": "stdout",
          "text": [
            "Mounted at /content/gdrive\n"
          ]
        }
      ],
      "source": [
        "from google.colab import drive \n",
        "drive.mount('/content/gdrive')"
      ]
    },
    {
      "cell_type": "code",
      "source": [
        "import json\n",
        "\n",
        "with open(\"gdrive/My Drive/HPC/top500.json\") as json_file:\n",
        "    json_data = json.load(json_file)\n",
        "    print(json_data)"
      ],
      "metadata": {
        "colab": {
          "base_uri": "https://localhost:8080/"
        },
        "id": "TG5eop6WUayi",
        "outputId": "b3f360ad-0084-479b-f07f-5c5611ff3f89"
      },
      "execution_count": null,
      "outputs": [
        {
          "output_type": "stream",
          "name": "stdout",
          "text": [
            "{'06/1993': {'Sum': [1100.0, 'GFlop/s'], '#1': [59.7, 'GFlop/s'], '#500': [0.4, 'GFlop/s']}, '11/1993': {'Sum': [1500.0, 'GFlop/s'], '#1': [124.0, 'GFlop/s'], '#500': [0.5, 'GFlop/s']}, '06/1994': {'Sum': [2300.0, 'GFlop/s'], '#1': [143.4, 'GFlop/s'], '#500': [0.8, 'GFlop/s']}, '11/1994': {'Sum': [2700.0, 'GFlop/s'], '#1': [170.0, 'GFlop/s'], '#500': [1.2, 'GFlop/s']}, '06/1995': {'Sum': [3900.0, 'GFlop/s'], '#1': [170.0, 'GFlop/s'], '#500': [2.0, 'GFlop/s']}, '11/1995': {'Sum': [4800.0, 'GFlop/s'], '#1': [170.0, 'GFlop/s'], '#500': [2.5, 'GFlop/s']}, '06/1996': {'Sum': [5900.0, 'GFlop/s'], '#1': [220.4, 'GFlop/s'], '#500': [3.3, 'GFlop/s']}, '11/1996': {'Sum': [8000.0, 'GFlop/s'], '#1': [368.2, 'GFlop/s'], '#500': [4.6, 'GFlop/s']}, '06/1997': {'Sum': [12800.0, 'GFlop/s'], '#1': [1100.0, 'GFlop/s'], '#500': [7.7, 'GFlop/s']}, '11/1997': {'Sum': [16900.0, 'GFlop/s'], '#1': [1300.0, 'GFlop/s'], '#500': [9.5, 'GFlop/s']}, '06/1998': {'Sum': [22600.0, 'GFlop/s'], '#1': [1300.0, 'GFlop/s'], '#500': [13.4, 'GFlop/s']}, '11/1998': {'Sum': [29400.0, 'GFlop/s'], '#1': [1300.0, 'GFlop/s'], '#500': [17.1, 'GFlop/s']}, '06/1999': {'Sum': [39100.0, 'GFlop/s'], '#1': [2100.0, 'GFlop/s'], '#500': [24.7, 'GFlop/s']}, '11/1999': {'Sum': [50900.0, 'GFlop/s'], '#1': [2400.0, 'GFlop/s'], '#500': [33.1, 'GFlop/s']}, '06/2000': {'Sum': [64200.0, 'GFlop/s'], '#1': [2400.0, 'GFlop/s'], '#500': [43.8, 'GFlop/s']}, '11/2000': {'Sum': [88100.0, 'GFlop/s'], '#1': [4900.0, 'GFlop/s'], '#500': [55.3, 'GFlop/s']}, '06/2001': {'Sum': [108300.0, 'GFlop/s'], '#1': [7200.0, 'GFlop/s'], '#500': [67.8, 'GFlop/s']}, '11/2001': {'Sum': [135000.0, 'GFlop/s'], '#1': [7200.0, 'GFlop/s'], '#500': [94.3, 'GFlop/s']}, '06/2002': {'Sum': [222300.0, 'GFlop/s'], '#1': [35900.0, 'GFlop/s'], '#500': [134.3, 'GFlop/s']}, '11/2002': {'Sum': [291800.0, 'GFlop/s'], '#1': [35900.0, 'GFlop/s'], '#500': [195.8, 'GFlop/s']}, '06/2003': {'Sum': [370000.0, 'GFlop/s'], '#1': [35900.0, 'GFlop/s'], '#500': [241.4, 'GFlop/s']}, '11/2003': {'Sum': [526700.0, 'GFlop/s'], '#1': [35900.0, 'GFlop/s'], '#500': [378.6, 'GFlop/s']}, '06/2004': {'Sum': [812300.0, 'GFlop/s'], '#1': [35900.0, 'GFlop/s'], '#500': [606.9, 'GFlop/s']}, '11/2004': {'Sum': [1100000.0, 'GFlop/s'], '#1': [70700.0, 'GFlop/s'], '#500': [840.0, 'GFlop/s']}, '06/2005': {'Sum': [1700000.0, 'GFlop/s'], '#1': [136800.0, 'GFlop/s'], '#500': [1200.0, 'GFlop/s']}, '11/2005': {'Sum': [2300000.0, 'GFlop/s'], '#1': [280600.0, 'GFlop/s'], '#500': [1600.0, 'GFlop/s']}, '06/2006': {'Sum': [2800000.0, 'GFlop/s'], '#1': [280600.0, 'GFlop/s'], '#500': [2000.0, 'GFlop/s']}, '11/2006': {'Sum': [3500000.0, 'GFlop/s'], '#1': [280600.0, 'GFlop/s'], '#500': [2700.0, 'GFlop/s']}, '06/2007': {'Sum': [5000000.0, 'GFlop/s'], '#1': [280600.0, 'GFlop/s'], '#500': [4000.0, 'GFlop/s']}, '11/2007': {'Sum': [7000000.0, 'GFlop/s'], '#1': [478200.0, 'GFlop/s'], '#500': [5900.0, 'GFlop/s']}, '06/2008': {'Sum': [12200000.0, 'GFlop/s'], '#1': [1000000.0, 'GFlop/s'], '#500': [9000.0, 'GFlop/s']}, '11/2008': {'Sum': [17400000.0, 'GFlop/s'], '#1': [1100000.0, 'GFlop/s'], '#500': [12600.0, 'GFlop/s']}, '06/2009': {'Sum': [22600000.0, 'GFlop/s'], '#1': [1100000.0, 'GFlop/s'], '#500': [17100.0, 'GFlop/s']}, '11/2009': {'Sum': [28000000.0, 'GFlop/s'], '#1': [1800000.0, 'GFlop/s'], '#500': [20100.0, 'GFlop/s']}, '06/2010': {'Sum': [32400000.0, 'GFlop/s'], '#1': [1800000.0, 'GFlop/s'], '#500': [24700.0, 'GFlop/s']}, '11/2010': {'Sum': [43800000.0, 'GFlop/s'], '#1': [2600000.0, 'GFlop/s'], '#500': [31100.0, 'GFlop/s']}, '06/2011': {'Sum': [58900000.0, 'GFlop/s'], '#1': [8199999.999999999, 'GFlop/s'], '#500': [40200.0, 'GFlop/s']}, '11/2011': {'Sum': [74100000.0, 'GFlop/s'], '#1': [10500000.0, 'GFlop/s'], '#500': [50900.0, 'GFlop/s']}, '06/2012': {'Sum': [123400000.0, 'GFlop/s'], '#1': [16300000.0, 'GFlop/s'], '#500': [60800.0, 'GFlop/s']}, '11/2012': {'Sum': [162100000.0, 'GFlop/s'], '#1': [17600000.0, 'GFlop/s'], '#500': [76400.0, 'GFlop/s']}, '06/2013': {'Sum': [228600000.0, 'GFlop/s'], '#1': [33900000.0, 'GFlop/s'], '#500': [96600.0, 'GFlop/s']}, '11/2013': {'Sum': [255000000.0, 'GFlop/s'], '#1': [33900000.0, 'GFlop/s'], '#500': [118000.0, 'GFlop/s']}, '06/2014': {'Sum': [278600000.0, 'GFlop/s'], '#1': [33900000.0, 'GFlop/s'], '#500': [134200.0, 'GFlop/s']}, '11/2014': {'Sum': [313000000.0, 'GFlop/s'], '#1': [33900000.0, 'GFlop/s'], '#500': [153400.0, 'GFlop/s']}, '06/2015': {'Sum': [364100000.0, 'GFlop/s'], '#1': [33900000.0, 'GFlop/s'], '#500': [164800.0, 'GFlop/s']}, '11/2015': {'Sum': [422600000.0, 'GFlop/s'], '#1': [33900000.0, 'GFlop/s'], '#500': [206400.0, 'GFlop/s']}, '06/2016': {'Sum': [572100000.0, 'GFlop/s'], '#1': [93000000.0, 'GFlop/s'], '#500': [286200.0, 'GFlop/s']}, '11/2016': {'Sum': [676800000.0, 'GFlop/s'], '#1': [93000000.0, 'GFlop/s'], '#500': [350400.0, 'GFlop/s']}, '06/2017': {'Sum': [753300000.0, 'GFlop/s'], '#1': [93000000.0, 'GFlop/s'], '#500': [433300.0, 'GFlop/s']}, '11/2017': {'Sum': [849600000.0, 'GFlop/s'], '#1': [93000000.0, 'GFlop/s'], '#500': [548700.0, 'GFlop/s']}, '06/2018': {'Sum': [1200000000.0, 'GFlop/s'], '#1': [122300000.0, 'GFlop/s'], '#500': [715600.0, 'GFlop/s']}, '11/2018': {'Sum': [1400000000.0, 'GFlop/s'], '#1': [143500000.0, 'GFlop/s'], '#500': [874800.0, 'GFlop/s']}, '06/2019': {'Sum': [1600000000.0, 'GFlop/s'], '#1': [148600000.0, 'GFlop/s'], '#500': [1000000.0, 'GFlop/s']}, '11/2019': {'Sum': [1600000000.0, 'GFlop/s'], '#1': [148600000.0, 'GFlop/s'], '#500': [1100000.0, 'GFlop/s']}, '06/2020': {'Sum': [2200000000.0, 'GFlop/s'], '#1': [415500000.0, 'GFlop/s'], '#500': [1200000.0, 'GFlop/s']}, '11/2020': {'Sum': [2400000000.0, 'GFlop/s'], '#1': [442000000.0, 'GFlop/s'], '#500': [1300000.0, 'GFlop/s']}, '06/2021': {'Sum': [2800000000.0, 'GFlop/s'], '#1': [442000000.0, 'GFlop/s'], '#500': [1500000.0, 'GFlop/s']}, '11/2021': {'Sum': [3000000000.0, 'GFlop/s'], '#1': [442000000.0, 'GFlop/s'], '#500': [1600000.0, 'GFlop/s']}, '06/2022': {'Sum': [4400000000.0, 'GFlop/s'], '#1': [1100000000.0, 'GFlop/s'], '#500': [1600000.0, 'GFlop/s']}}\n"
          ]
        }
      ]
    },
    {
      "cell_type": "code",
      "source": [
        "top_1 = []\n",
        "top_500 = []\n",
        "sum_top = []\n",
        "date = []\n",
        "\n",
        "for period, data in json_data.items():\n",
        "  date.append(period)\n",
        "  for n, GFlop in data.items():\n",
        "    if n == \"Sum\":\n",
        "      sum_top.append(GFlop[0])\n",
        "    if n == \"#1\":\n",
        "      top_1.append(GFlop[0])\n",
        "    if n == \"#500\":\n",
        "      top_500.append(GFlop[0])    "
      ],
      "metadata": {
        "id": "4ITV1FZeV-Yc"
      },
      "execution_count": null,
      "outputs": []
    },
    {
      "cell_type": "code",
      "source": [
        "d = {'date': date, 'top_1': top_1, 'top_500': top_500, 'sum_top': sum_top}\n",
        "df = pd.DataFrame(data=d)\n",
        "df[:3]"
      ],
      "metadata": {
        "colab": {
          "base_uri": "https://localhost:8080/",
          "height": 144
        },
        "id": "H4BRwIcAfV1I",
        "outputId": "60600fca-2f42-4a77-f224-20a539381767"
      },
      "execution_count": null,
      "outputs": [
        {
          "output_type": "execute_result",
          "data": {
            "text/plain": [
              "      date  top_1  top_500  sum_top\n",
              "0  06/1993   59.7      0.4   1100.0\n",
              "1  11/1993  124.0      0.5   1500.0\n",
              "2  06/1994  143.4      0.8   2300.0"
            ],
            "text/html": [
              "\n",
              "  <div id=\"df-a4dbcf71-08be-47ae-a2c5-164800efbc91\">\n",
              "    <div class=\"colab-df-container\">\n",
              "      <div>\n",
              "<style scoped>\n",
              "    .dataframe tbody tr th:only-of-type {\n",
              "        vertical-align: middle;\n",
              "    }\n",
              "\n",
              "    .dataframe tbody tr th {\n",
              "        vertical-align: top;\n",
              "    }\n",
              "\n",
              "    .dataframe thead th {\n",
              "        text-align: right;\n",
              "    }\n",
              "</style>\n",
              "<table border=\"1\" class=\"dataframe\">\n",
              "  <thead>\n",
              "    <tr style=\"text-align: right;\">\n",
              "      <th></th>\n",
              "      <th>date</th>\n",
              "      <th>top_1</th>\n",
              "      <th>top_500</th>\n",
              "      <th>sum_top</th>\n",
              "    </tr>\n",
              "  </thead>\n",
              "  <tbody>\n",
              "    <tr>\n",
              "      <th>0</th>\n",
              "      <td>06/1993</td>\n",
              "      <td>59.7</td>\n",
              "      <td>0.4</td>\n",
              "      <td>1100.0</td>\n",
              "    </tr>\n",
              "    <tr>\n",
              "      <th>1</th>\n",
              "      <td>11/1993</td>\n",
              "      <td>124.0</td>\n",
              "      <td>0.5</td>\n",
              "      <td>1500.0</td>\n",
              "    </tr>\n",
              "    <tr>\n",
              "      <th>2</th>\n",
              "      <td>06/1994</td>\n",
              "      <td>143.4</td>\n",
              "      <td>0.8</td>\n",
              "      <td>2300.0</td>\n",
              "    </tr>\n",
              "  </tbody>\n",
              "</table>\n",
              "</div>\n",
              "      <button class=\"colab-df-convert\" onclick=\"convertToInteractive('df-a4dbcf71-08be-47ae-a2c5-164800efbc91')\"\n",
              "              title=\"Convert this dataframe to an interactive table.\"\n",
              "              style=\"display:none;\">\n",
              "        \n",
              "  <svg xmlns=\"http://www.w3.org/2000/svg\" height=\"24px\"viewBox=\"0 0 24 24\"\n",
              "       width=\"24px\">\n",
              "    <path d=\"M0 0h24v24H0V0z\" fill=\"none\"/>\n",
              "    <path d=\"M18.56 5.44l.94 2.06.94-2.06 2.06-.94-2.06-.94-.94-2.06-.94 2.06-2.06.94zm-11 1L8.5 8.5l.94-2.06 2.06-.94-2.06-.94L8.5 2.5l-.94 2.06-2.06.94zm10 10l.94 2.06.94-2.06 2.06-.94-2.06-.94-.94-2.06-.94 2.06-2.06.94z\"/><path d=\"M17.41 7.96l-1.37-1.37c-.4-.4-.92-.59-1.43-.59-.52 0-1.04.2-1.43.59L10.3 9.45l-7.72 7.72c-.78.78-.78 2.05 0 2.83L4 21.41c.39.39.9.59 1.41.59.51 0 1.02-.2 1.41-.59l7.78-7.78 2.81-2.81c.8-.78.8-2.07 0-2.86zM5.41 20L4 18.59l7.72-7.72 1.47 1.35L5.41 20z\"/>\n",
              "  </svg>\n",
              "      </button>\n",
              "      \n",
              "  <style>\n",
              "    .colab-df-container {\n",
              "      display:flex;\n",
              "      flex-wrap:wrap;\n",
              "      gap: 12px;\n",
              "    }\n",
              "\n",
              "    .colab-df-convert {\n",
              "      background-color: #E8F0FE;\n",
              "      border: none;\n",
              "      border-radius: 50%;\n",
              "      cursor: pointer;\n",
              "      display: none;\n",
              "      fill: #1967D2;\n",
              "      height: 32px;\n",
              "      padding: 0 0 0 0;\n",
              "      width: 32px;\n",
              "    }\n",
              "\n",
              "    .colab-df-convert:hover {\n",
              "      background-color: #E2EBFA;\n",
              "      box-shadow: 0px 1px 2px rgba(60, 64, 67, 0.3), 0px 1px 3px 1px rgba(60, 64, 67, 0.15);\n",
              "      fill: #174EA6;\n",
              "    }\n",
              "\n",
              "    [theme=dark] .colab-df-convert {\n",
              "      background-color: #3B4455;\n",
              "      fill: #D2E3FC;\n",
              "    }\n",
              "\n",
              "    [theme=dark] .colab-df-convert:hover {\n",
              "      background-color: #434B5C;\n",
              "      box-shadow: 0px 1px 3px 1px rgba(0, 0, 0, 0.15);\n",
              "      filter: drop-shadow(0px 1px 2px rgba(0, 0, 0, 0.3));\n",
              "      fill: #FFFFFF;\n",
              "    }\n",
              "  </style>\n",
              "\n",
              "      <script>\n",
              "        const buttonEl =\n",
              "          document.querySelector('#df-a4dbcf71-08be-47ae-a2c5-164800efbc91 button.colab-df-convert');\n",
              "        buttonEl.style.display =\n",
              "          google.colab.kernel.accessAllowed ? 'block' : 'none';\n",
              "\n",
              "        async function convertToInteractive(key) {\n",
              "          const element = document.querySelector('#df-a4dbcf71-08be-47ae-a2c5-164800efbc91');\n",
              "          const dataTable =\n",
              "            await google.colab.kernel.invokeFunction('convertToInteractive',\n",
              "                                                     [key], {});\n",
              "          if (!dataTable) return;\n",
              "\n",
              "          const docLinkHtml = 'Like what you see? Visit the ' +\n",
              "            '<a target=\"_blank\" href=https://colab.research.google.com/notebooks/data_table.ipynb>data table notebook</a>'\n",
              "            + ' to learn more about interactive tables.';\n",
              "          element.innerHTML = '';\n",
              "          dataTable['output_type'] = 'display_data';\n",
              "          await google.colab.output.renderOutput(dataTable, element);\n",
              "          const docLink = document.createElement('div');\n",
              "          docLink.innerHTML = docLinkHtml;\n",
              "          element.appendChild(docLink);\n",
              "        }\n",
              "      </script>\n",
              "    </div>\n",
              "  </div>\n",
              "  "
            ]
          },
          "metadata": {},
          "execution_count": 6
        }
      ]
    },
    {
      "cell_type": "code",
      "source": [
        "plt.plot([i for i in range(59)], df['top_1'].values, label='Top-1')\n",
        "plt.plot([i for i in range(59)], df['top_500'].values, label='Top-500')\n",
        "plt.legend()\n",
        "plt.show()"
      ],
      "metadata": {
        "colab": {
          "base_uri": "https://localhost:8080/",
          "height": 276
        },
        "id": "0iIZDflxf2hA",
        "outputId": "4c2dbc2d-3b97-4ef2-de03-d8eb61906fe0"
      },
      "execution_count": null,
      "outputs": [
        {
          "output_type": "display_data",
          "data": {
            "text/plain": [
              "<Figure size 432x288 with 1 Axes>"
            ],
            "image/png": "[encoded data removed]"
          },
          "metadata": {
            "needs_background": "light"
          }
        }
      ]
    },
    {
      "cell_type": "markdown",
      "source": [
        "### На основании данных рейтинга top500 спрогнозировать  производительность компьютера №1 в 2025"
      ],
      "metadata": {
        "id": "wT83Xa3JH1Ah"
      }
    },
    {
      "cell_type": "code",
      "source": [
        "#top_1_1\n",
        "# график производительность компьютера №1 похож на экспоненту\n",
        "\n",
        "top_1_log = np.log(df['top_1'].values)\n",
        "xs = np.arange(59).reshape(-1, 1)\n",
        "xs_t = np.arange(0, 67).reshape(-1, 1)\n",
        "reg = LinearRegression().fit(xs, top_1_log)\n",
        "print(reg.score(xs, top_1_log))\n",
        "print(reg.coef_)\n",
        "print(reg.intercept_)"
      ],
      "metadata": {
        "colab": {
          "base_uri": "https://localhost:8080/"
        },
        "id": "oDZ-PeParqhe",
        "outputId": "47c7d1b0-ad09-4c28-d9ef-dfed48cb462a"
      },
      "execution_count": null,
      "outputs": [
        {
          "output_type": "stream",
          "name": "stdout",
          "text": [
            "0.9873448010515966\n",
            "[0.29242103]\n",
            "4.413132225175504\n"
          ]
        }
      ]
    },
    {
      "cell_type": "code",
      "source": [
        "#top_1\n",
        "#59 06/2022\n",
        "\n",
        "#60 11/2022 #61 06/2023 #62 11/2023 #63 06/2024 #64 11/2024 #65 06/2025 #66 11/2025\n",
        "plt.plot(np.arange(0, 67).reshape(-1, 1), np.exp(reg.predict(xs_t)), 'y', label='Предсказания')\n",
        "plt.plot(np.arange(0, 59).reshape(-1, 1), df['top_1'].values, 'b', label= 'Исторические сведения')\n",
        "plt.title('top_1')\n",
        "plt.legend()\n",
        "plt.show()"
      ],
      "metadata": {
        "colab": {
          "base_uri": "https://localhost:8080/",
          "height": 281
        },
        "id": "-_79Vpjlf2b4",
        "outputId": "d78246b8-9b7a-49d8-aeaf-55a2e5b05320"
      },
      "execution_count": null,
      "outputs": [
        {
          "output_type": "display_data",
          "data": {
            "text/plain": [
              "<Figure size 432x288 with 1 Axes>"
            ],
            "image/png": "[encoded data removed]"
          },
          "metadata": {
            "needs_background": "light"
          }
        }
      ]
    },
    {
      "cell_type": "code",
      "source": [
        "#На основании данных рейтинга top500 спрогнозировать  производительность компьютера №1 в 2025\n",
        "top_1_06_2025 = np.exp(reg.predict([[65]]))\n",
        "top_1_11_2025 = np.exp(reg.predict([[66]]))\n",
        "print('Спрогнозировать  производительность компьютера №1 в 2025 06_2025', top_1_06_2025, 'GFlop/s')\n",
        "print('Спрогнозировать  производительность компьютера №1 в 2025 11_2025', top_1_11_2025, 'GFlop/s')"
      ],
      "metadata": {
        "colab": {
          "base_uri": "https://localhost:8080/"
        },
        "id": "qZLj0TdGEg-5",
        "outputId": "f3c4d395-0763-42e5-fdaf-875aca90752a"
      },
      "execution_count": null,
      "outputs": [
        {
          "output_type": "stream",
          "name": "stdout",
          "text": [
            "Спрогнозировать  производительность компьютера №1 в 2025 06_2025 [1.48386245e+10] GFlop/s\n",
            "Спрогнозировать  производительность компьютера №1 в 2025 11_2025 [1.98788147e+10] GFlop/s\n"
          ]
        }
      ]
    },
    {
      "cell_type": "markdown",
      "source": [
        "### Оцените какой процент всего производимого на Земле электричества потребляют все компьютеры из top500 (на основании открытых данных top500.org)"
      ],
      "metadata": {
        "id": "otpeKoVdH_TF"
      }
    },
    {
      "cell_type": "code",
      "source": [
        "data_top500 = pd.read_excel('gdrive/My Drive/HPC/TOP500_202206.xlsx')"
      ],
      "metadata": {
        "id": "Fx8N7viwahZN"
      },
      "execution_count": null,
      "outputs": []
    },
    {
      "cell_type": "code",
      "source": [
        "# в top500 не везде указана Power (kW), поэтому найдем среднее у имеющихся и умножим на 500\n",
        "sum_power_500 = data_top500['Power (kW)'].mean() * 500\n",
        "\n",
        "sum_power_500"
      ],
      "metadata": {
        "id": "5iOv_BE2HPMW",
        "colab": {
          "base_uri": "https://localhost:8080/"
        },
        "outputId": "53635ae0-d2cd-432d-f59b-62298c6a56ef"
      },
      "execution_count": null,
      "outputs": [
        {
          "output_type": "execute_result",
          "data": {
            "text/plain": [
              "891325.7853403141"
            ]
          },
          "metadata": {},
          "execution_count": 14
        }
      ]
    },
    {
      "cell_type": "code",
      "source": [
        "# потребление в мире в kW\n",
        "world = 26_823_200 * 1_000_000 / 365 / 24"
      ],
      "metadata": {
        "id": "Nfd6RbNdnaY4"
      },
      "execution_count": null,
      "outputs": []
    },
    {
      "cell_type": "code",
      "source": [
        "#процент всего производимого на Земле электричества потребляют все компьютеры top500\n",
        "\n",
        "procent = sum_power_500 * 100 / world\n",
        "print('Процент всего производимого на Земле электричества потребляют все компьютеры top500:', procent)"
      ],
      "metadata": {
        "colab": {
          "base_uri": "https://localhost:8080/"
        },
        "id": "4l5n7xOZtWWR",
        "outputId": "dbe04153-52cd-43cc-bf7b-514f3a843f14"
      },
      "execution_count": null,
      "outputs": [
        {
          "output_type": "stream",
          "name": "stdout",
          "text": [
            "Процент всего производимого на Земле электричества потребляют все компьютеры top500: 0.02910918115504918\n"
          ]
        }
      ]
    }
  ]
}